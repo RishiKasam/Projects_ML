{
 "cells": [
  {
   "cell_type": "code",
   "execution_count": 43,
   "id": "3a38fa92",
   "metadata": {},
   "outputs": [],
   "source": [
    "import os\n",
    "from pathlib import Path\n",
    "from keras.preprocessing import image\n",
    "import matplotlib\n",
    "matplotlib.use('TkAgg')\n"
   ]
  },
  {
   "cell_type": "code",
   "execution_count": 44,
   "id": "cc9c55a9",
   "metadata": {},
   "outputs": [],
   "source": [
    "import matplotlib.pyplot as plt"
   ]
  },
  {
   "cell_type": "code",
   "execution_count": 45,
   "id": "827367f4",
   "metadata": {},
   "outputs": [
    {
     "name": "stdout",
     "output_type": "stream",
     "text": [
      "Datasets\\Bulbasaur\n",
      "176\n",
      "Datasets\\Charizard\n",
      "52\n",
      "Datasets\\Pikachu\n",
      "199\n"
     ]
    }
   ],
   "source": [
    "p = Path(\"./Datasets/\")\n",
    "\n",
    "dirs = p.glob(\"*\")\n",
    "\n",
    "image_data = []\n",
    "labels = []\n",
    "\n",
    "#Optional\n",
    "image_paths = []\n",
    "\n",
    "label_dict = {\"Pikachu\":0,\"Bulbasaur\":1,\"Charizard\":2}\n",
    "label2pokemon = {0:\"Pikachu\",1:\"Bulbasaur\",2:\"Charizard\"}\n",
    "\n",
    "for folder_dir in dirs:\n",
    "    label = str(folder_dir).split(\"\\\\\")[-1]\n",
    "    \n",
    "    cnt = 0\n",
    "    print(folder_dir)\n",
    "    \n",
    "    #Iterate over folder_dir and pick all images of the pokemen\n",
    "    for img_path in folder_dir.glob(\"*.jpg\"):\n",
    "        img = image.load_img(img_path,target_size=(40,40))\n",
    "        img_array = image.img_to_array(img)\n",
    "        image_data.append(img_array)\n",
    "        labels.append(label_dict[label])\n",
    "        cnt += 1\n",
    "        \n",
    "    print(cnt)\n",
    "\n",
    "\n"
   ]
  },
  {
   "cell_type": "code",
   "execution_count": 46,
   "id": "e31a41af",
   "metadata": {},
   "outputs": [],
   "source": [
    "## Visualization"
   ]
  },
  {
   "cell_type": "code",
   "execution_count": 47,
   "id": "b64ec15b",
   "metadata": {},
   "outputs": [
    {
     "name": "stdout",
     "output_type": "stream",
     "text": [
      "427\n",
      "427\n"
     ]
    }
   ],
   "source": [
    "import numpy as np\n",
    "\n",
    "print(len(image_data))\n",
    "print(len(labels))"
   ]
  },
  {
   "cell_type": "code",
   "execution_count": 48,
   "id": "f1d6087b",
   "metadata": {},
   "outputs": [
    {
     "name": "stdout",
     "output_type": "stream",
     "text": [
      "(427, 40, 40, 3)\n",
      "(427,)\n"
     ]
    }
   ],
   "source": [
    "X = np.array(image_data)\n",
    "Y = np.array(labels)\n",
    "\n",
    "print(X.shape)\n",
    "print(Y.shape)"
   ]
  },
  {
   "cell_type": "code",
   "execution_count": 49,
   "id": "a02cbaf4",
   "metadata": {},
   "outputs": [],
   "source": [
    "#Draw some pokemons\n",
    "def drawImg(img,label):\n",
    "    plt.imshow(img)\n",
    "    plt.show()\n"
   ]
  },
  {
   "cell_type": "code",
   "execution_count": 50,
   "id": "71d471f8",
   "metadata": {},
   "outputs": [
    {
     "data": {
      "image/png": "[encoded data removed]",
      "text/plain": [
       "<Figure size 576x396 with 1 Axes>"
      ]
     },
     "metadata": {},
     "output_type": "display_data"
    }
   ],
   "source": [
    "drawImg(X[0]/255.0,label[0])"
   ]
  },
  {
   "cell_type": "code",
   "execution_count": 51,
   "id": "941a48e4",
   "metadata": {},
   "outputs": [],
   "source": [
    "from sklearn.utils import shuffle\n",
    "X,Y = shuffle(X,Y,random_state=2)\n",
    "# Normalisation\n",
    "X = X/255.0"
   ]
  },
  {
   "cell_type": "code",
   "execution_count": 52,
   "id": "ed935a33",
   "metadata": {},
   "outputs": [
    {
     "name": "stdout",
     "output_type": "stream",
     "text": [
      "[1 0 0 2 1 0 2 0 1 0 1 0 2 1 0 2 1 0 0 0 0 2 0 1 1 1 0 0 0 0 1 1 1 0 1 1 2\n",
      " 0 0 0 1 1 1 0 0 0 2 1 1 1 1 0 0 1 0 1 0 0 1 0 2 0 1 2 0 1 0 1 2 0 0 2 1 0\n",
      " 2 0 1 1 1 0 0 0 2 1 0 1 0 0 2 1 1 0 1 1 0 0 0 2 0 1 0 1 0 0 0 0 0 1 1 1 2\n",
      " 1 0 1 0 0 2 2 1 1 1 0 1 2 1 2 0 0 0 0 1 1 1 0 0 0 1 0 1 0 1 0 2 1 2 1 2 0\n",
      " 1 0 1 0 0 0 1 0 2 1 1 0 0 2 0 1 0 0 1 1 0 0 2 0 1 1 2 1 0 0 0 1 2 1 1 0 0\n",
      " 0 1 2 0 2 1 2 2 1 1 0 0 1 1 1 0 1 1 1 0 0 1 0 1 1 1 0 1 0 1 0 1 0 1 0 0 1\n",
      " 0 1 1 0 0 1 0 0 0 0 1 0 1 0 1 0 1 0 0 1 0 1 1 1 2 1 1 1 2 1 1 0 1 1 0 1 0\n",
      " 0 2 2 0 0 0 0 1 1 0 0 0 1 1 1 1 0 0 0 2 0 1 0 0 1 1 0 0 0 2 0 1 0 0 0 0 0\n",
      " 1 1 0 0 0 0 2 0 0 1 2 0 1 0 1 0 1 0 1 1 1 0 0 2 2 1 0 0 0 0 1 1 0 1 2 0 2\n",
      " 0 1 1 0 1 2 0 0 0 0 1 1 1 1 0 0 1 1 1 0 0 1 0 1 0 1 0 1 1 0 1 1 1 0 0 0 2\n",
      " 1 0 0 0 0 1 0 1 2 0 0 1 1 0 1 1 1 1 2 0 0 2 1 0 0 0 0 1 1 1 0 1 0 0 1 2 1\n",
      " 0 1 1 0 2 0 0 1 2 0 1 1 0 0 1 0 1 1 1 1]\n"
     ]
    }
   ],
   "source": [
    "print(Y)"
   ]
  },
  {
   "cell_type": "code",
   "execution_count": 53,
   "id": "c10e1979",
   "metadata": {},
   "outputs": [],
   "source": [
    "# Draw some pokemons\n",
    "def drawImg2(img, label):\n",
    "    plt.title(label2pokemon[label])\n",
    "    plt.imshow(img)\n",
    "    plt.style.use(\"seaborn\")\n",
    "    plt.axis(\"off\")\n",
    "    plt.show()\n"
   ]
  },
  {
   "cell_type": "code",
   "execution_count": 54,
   "id": "701be6ab",
   "metadata": {},
   "outputs": [
    {
     "data": {
      "image/png": "[encoded data removed]",
      "text/plain": [
       "<Figure size 576x396 with 1 Axes>"
      ]
     },
     "metadata": {},
     "output_type": "display_data"
    }
   ],
   "source": [
    "for i in range(1,20):\n",
    "    drawImg2(X[i].reshape(40,40,3),Y[i])"
   ]
  },
  {
   "cell_type": "code",
   "execution_count": 55,
   "id": "8de75c91",
   "metadata": {},
   "outputs": [
    {
     "name": "stdout",
     "output_type": "stream",
     "text": [
      "(341, 40, 40, 3) (341,)\n",
      "(86, 40, 40, 3) (86,)\n"
     ]
    }
   ],
   "source": [
    "### Create Training and Testing Set\n",
    "\n",
    "split = int(X.shape[0]*.8)\n",
    "\n",
    "X_ = np.array(X)\n",
    "Y_ = np.array(Y)\n",
    "\n",
    "#Training Set\n",
    "X = X_[:split,:]\n",
    "Y = Y_[:split]\n",
    "\n",
    "#Test Set\n",
    "XTest = X_[split:,:]\n",
    "YTest = Y_[split:]\n",
    "\n",
    "print(X.shape,Y.shape)\n",
    "print(XTest.shape,YTest.shape)"
   ]
  },
  {
   "cell_type": "code",
   "execution_count": 56,
   "id": "64ae8fe0",
   "metadata": {},
   "outputs": [],
   "source": [
    "class NeuralNetwork:\n",
    "    \n",
    "    def __init__(self,input_size,layers,output_size):\n",
    "        np.random.seed(0)\n",
    "        \n",
    "        model = {} #Dictionary\n",
    "        \n",
    "        #First Layer\n",
    "        model['W1'] = np.random.randn(input_size,layers[0])\n",
    "        model['b1'] = np.zeros((1,layers[0]))\n",
    "        \n",
    "        #Second Layer\n",
    "        model['W2'] = np.random.randn(layers[0],layers[1])\n",
    "        model['b2'] = np.zeros((1,layers[1]))\n",
    "        \n",
    "        #Third/Output Layer\n",
    "        model['W3'] = np.random.randn(layers[1],output_size)\n",
    "        model['b3'] = np.zeros((1,output_size))\n",
    "        \n",
    "        self.model = model\n",
    "        self.activation_outputs = None\n",
    "    \n",
    "    def forward(self,x):\n",
    "        \n",
    "        W1,W2,W3 = self.model['W1'],self.model['W2'],self.model['W3']\n",
    "        b1, b2, b3 = self.model['b1'],self.model['b2'],self.model['b3']\n",
    "        \n",
    "        z1 = np.dot(x,W1) + b1\n",
    "        a1 = np.tanh(z1) \n",
    "        \n",
    "        z2 = np.dot(a1,W2) + b2\n",
    "        a2 = np.tanh(z2)\n",
    "        \n",
    "        z3 = np.dot(a2,W3) + b3\n",
    "        y_ = softmax(z3)\n",
    "        \n",
    "        self.activation_outputs = (a1,a2,y_)\n",
    "        return y_\n",
    "        \n",
    "    def backward(self,x,y,learning_rate=0.001):\n",
    "        W1,W2,W3 = self.model['W1'],self.model['W2'],self.model['W3']\n",
    "        b1, b2, b3 = self.model['b1'],self.model['b2'],self.model['b3']\n",
    "        m = x.shape[0]\n",
    "        \n",
    "        a1,a2,y_ = self.activation_outputs\n",
    "        \n",
    "        delta3 = y_ - y\n",
    "        dw3 = np.dot(a2.T,delta3)\n",
    "        db3 = np.sum(delta3,axis=0)\n",
    "        \n",
    "        delta2 = (1-np.square(a2))*np.dot(delta3,W3.T)\n",
    "        dw2 = np.dot(a1.T,delta2)\n",
    "        db2 = np.sum(delta2,axis=0)\n",
    "        \n",
    "        delta1 = (1-np.square(a1))*np.dot(delta2,W2.T)\n",
    "        dw1 = np.dot(X.T,delta1)\n",
    "        db1 = np.sum(delta1,axis=0)\n",
    "        \n",
    "        \n",
    "        #Update the Model Parameters using Gradient Descent\n",
    "        self.model[\"W1\"]  -= learning_rate*dw1\n",
    "        self.model['b1']  -= learning_rate*db1\n",
    "        \n",
    "        self.model[\"W2\"]  -= learning_rate*dw2\n",
    "        self.model['b2']  -= learning_rate*db2\n",
    "        \n",
    "        self.model[\"W3\"]  -= learning_rate*dw3\n",
    "        self.model['b3']  -= learning_rate*db3\n",
    "        \n",
    "        # :)\n",
    "        \n",
    "    def predict(self,x):\n",
    "        y_out = self.forward(x)\n",
    "        return np.argmax(y_out,axis=1)\n",
    "    \n",
    "    def summary(self):\n",
    "        W1,W2,W3 = self.model['W1'],self.model['W2'],self.model['W3']\n",
    "        a1,a2,y_ = self.activation_outputs\n",
    "        \n",
    "        print(\"W1 \",W1.shape)\n",
    "        print(\"A1 \",a1.shape)\n",
    "\n",
    "def softmax(a):\n",
    "    e_pa = np.exp(a) #Vector\n",
    "    ans = e_pa/np.sum(e_pa,axis=1,keepdims=True)\n",
    "    return ans"
   ]
  },
  {
   "cell_type": "code",
   "execution_count": 57,
   "id": "5967869d",
   "metadata": {},
   "outputs": [],
   "source": [
    "def loss(y_oht,p):\n",
    "    l = -np.mean(y_oht*np.log(p))\n",
    "    return l\n",
    "\n",
    "def one_hot(y,depth):\n",
    "    \n",
    "    m = y.shape[0]\n",
    "    y_oht = np.zeros((m,depth))\n",
    "    y_oht[np.arange(m),y] = 1\n",
    "    return y_oht"
   ]
  },
  {
   "cell_type": "code",
   "execution_count": 58,
   "id": "cbfe6e96",
   "metadata": {},
   "outputs": [],
   "source": [
    "def train(X,Y,model,epochs,learning_rate,logs=True):\n",
    "    training_loss = []\n",
    "    \n",
    "    classes = len(np.unique(Y))\n",
    "    Y_OHT = one_hot(Y,classes)\n",
    "    \n",
    "    for ix in range(epochs):\n",
    "        \n",
    "        Y_ = model.forward(X)\n",
    "        l = loss(Y_OHT,Y_)\n",
    "        \n",
    "        model.backward(X,Y_OHT,learning_rate)\n",
    "        training_loss.append(l)\n",
    "        if(logs and ix%50==0):\n",
    "            print(\"Epoch %d Loss %.4f\"%(ix,l))\n",
    "            \n",
    "    \n",
    "    return training_loss"
   ]
  },
  {
   "cell_type": "code",
   "execution_count": 59,
   "id": "f2e6c07d",
   "metadata": {},
   "outputs": [],
   "source": [
    "model = NeuralNetwork(input_size=4800,layers=[100,50],output_size=3) #4800 features(40X40X3)"
   ]
  },
  {
   "cell_type": "code",
   "execution_count": 60,
   "id": "94e88b7c",
   "metadata": {},
   "outputs": [
    {
     "name": "stdout",
     "output_type": "stream",
     "text": [
      "(341, 40, 40, 3)\n",
      "(341, 4800)\n",
      "(86, 4800)\n"
     ]
    }
   ],
   "source": [
    "print(X.shape)\n",
    "\n",
    "X = X.reshape(X.shape[0],-1)\n",
    "print(X.shape)\n",
    "\n",
    "XTest = XTest.reshape(XTest.shape[0],-1)\n",
    "print(XTest.shape)"
   ]
  },
  {
   "cell_type": "code",
   "execution_count": null,
   "id": "b75f77f8",
   "metadata": {},
   "outputs": [
    {
     "name": "stdout",
     "output_type": "stream",
     "text": [
      "Epoch 0 Loss 3.2366\n",
      "Epoch 50 Loss 0.2196\n",
      "Epoch 100 Loss 0.0944\n",
      "Epoch 150 Loss 0.0666\n",
      "Epoch 200 Loss 0.0542\n",
      "Epoch 250 Loss 0.0461\n",
      "Epoch 300 Loss 0.0390\n"
     ]
    }
   ],
   "source": [
    "l = train(X,Y,model,500,0.0002)"
   ]
  },
  {
   "cell_type": "code",
   "execution_count": 19,
   "id": "36ce6a0f",
   "metadata": {},
   "outputs": [
    {
     "data": {
      "image/png": "[encoded data removed]",
      "text/plain": [
       "<Figure size 576x396 with 1 Axes>"
      ]
     },
     "metadata": {},
     "output_type": "display_data"
    }
   ],
   "source": [
    "from matplotlib import pyplot as plt\n",
    "plt.style.use(\"dark_background\")\n",
    "plt.title(\"Training Loss vs Epochs\")\n",
    "plt.plot(l)\n",
    "\n",
    "plt.show()"
   ]
  },
  {
   "cell_type": "code",
   "execution_count": 20,
   "id": "82faad63",
   "metadata": {},
   "outputs": [
    {
     "name": "stdout",
     "output_type": "stream",
     "text": [
      "Train Acc 0.9883\n",
      "Test Acc 0.6395\n"
     ]
    }
   ],
   "source": [
    "# Accuracy \n",
    "def getAccuracy(X,Y,model):\n",
    "    outputs = model.predict(X)\n",
    "    acc = np.sum(outputs==Y)/Y.shape[0]\n",
    "    return acc\n",
    "    \n",
    "print(\"Train Acc %.4f\"%getAccuracy(X,Y,model))\n",
    "print(\"Test Acc %.4f\"%getAccuracy(XTest,YTest,model))"
   ]
  },
  {
   "cell_type": "code",
   "execution_count": 23,
   "id": "3718229f",
   "metadata": {},
   "outputs": [
    {
     "data": {
      "text/plain": [
       "['__builtins__',\n",
       " '__cached__',\n",
       " '__doc__',\n",
       " '__file__',\n",
       " '__loader__',\n",
       " '__name__',\n",
       " '__package__',\n",
       " '__path__',\n",
       " '__spec__',\n",
       " 'add_path',\n",
       " 'draw_line_chart',\n",
       " 'grid_attention_visualization',\n",
       " 'line_chart',\n",
       " 'load_data_from_txt',\n",
       " 'region_attention_visualization',\n",
       " 'visualize_grid_attention',\n",
       " 'visualize_grid_attention_v2',\n",
       " 'visualize_region_attention']"
      ]
     },
     "execution_count": 23,
     "metadata": {},
     "output_type": "execute_result"
    }
   ],
   "source": [
    "import visualize\n",
    "dir(visualize)"
   ]
  },
  {
   "cell_type": "code",
   "execution_count": 39,
   "id": "4fb56da1",
   "metadata": {
    "scrolled": true
   },
   "outputs": [
    {
     "name": "stdout",
     "output_type": "stream",
     "text": [
      "[[160   2   1]\n",
      " [  1 133   0]\n",
      " [  0   0  44]]\n"
     ]
    },
    {
     "data": {
      "text/plain": [
       "<sklearn.metrics._plot.confusion_matrix.ConfusionMatrixDisplay at 0x1b1767885b0>"
      ]
     },
     "execution_count": 39,
     "metadata": {},
     "output_type": "execute_result"
    },
    {
     "data": {
      "image/png": "[encoded data removed]",
      "text/plain": [
       "<Figure size 576x396 with 2 Axes>"
      ]
     },
     "metadata": {},
     "output_type": "display_data"
    }
   ],
   "source": [
    "from sklearn.metrics import confusion_matrix, ConfusionMatrixDisplay\n",
    "outputs = model.predict(X)\n",
    "#cnf_matrix = confusion_matrix(outputs,Y)\n",
    "cm = confusion_matrix(outputs,Y)\n",
    "print(cm)\n",
    "disp = ConfusionMatrixDisplay(confusion_matrix=cm)\n",
    "disp.plot(cmap=plt.cm.Blues)"
   ]
  },
  {
   "cell_type": "code",
   "execution_count": 40,
   "id": "8c15ab6b",
   "metadata": {
    "scrolled": true
   },
   "outputs": [
    {
     "name": "stdout",
     "output_type": "stream",
     "text": [
      "              precision    recall  f1-score   support\n",
      "\n",
      "           0       0.99      0.98      0.99       163\n",
      "           1       0.99      0.99      0.99       134\n",
      "           2       0.98      1.00      0.99        44\n",
      "\n",
      "    accuracy                           0.99       341\n",
      "   macro avg       0.99      0.99      0.99       341\n",
      "weighted avg       0.99      0.99      0.99       341\n",
      "\n"
     ]
    }
   ],
   "source": [
    "from sklearn.metrics import classification_report\n",
    "print(classification_report(outputs,Y))"
   ]
  },
  {
   "cell_type": "code",
   "execution_count": 41,
   "id": "37bfc203",
   "metadata": {
    "scrolled": true
   },
   "outputs": [
    {
     "name": "stdout",
     "output_type": "stream",
     "text": [
      "              precision    recall  f1-score   support\n",
      "\n",
      "           0       0.61      0.70      0.65        33\n",
      "           1       0.71      0.76      0.73        38\n",
      "           2       0.43      0.20      0.27        15\n",
      "\n",
      "    accuracy                           0.64        86\n",
      "   macro avg       0.58      0.55      0.55        86\n",
      "weighted avg       0.62      0.64      0.62        86\n",
      "\n"
     ]
    },
    {
     "data": {
      "text/plain": [
       "<sklearn.metrics._plot.confusion_matrix.ConfusionMatrixDisplay at 0x1b17daf6c20>"
      ]
     },
     "execution_count": 41,
     "metadata": {},
     "output_type": "execute_result"
    },
    {
     "data": {
      "image/png": "[encoded data removed]",
      "text/plain": [
       "<Figure size 576x396 with 2 Axes>"
      ]
     },
     "metadata": {},
     "output_type": "display_data"
    }
   ],
   "source": [
    "test_outputs = model.predict(XTest)\n",
    "print(classification_report(test_outputs,YTest))\n",
    "cm = confusion_matrix(test_outputs,YTest)\n",
    "disp1 = ConfusionMatrixDisplay(confusion_matrix=cm)\n",
    "disp1.plot(cmap=plt.cm.Blues)"
   ]
  },
  {
   "cell_type": "code",
   "execution_count": 42,
   "id": "bc16a6fc",
   "metadata": {},
   "outputs": [
    {
     "name": "stdout",
     "output_type": "stream",
     "text": [
      "Prediction 35 Pikachu\n",
      "Prediction 53 Pikachu\n",
      "Prediction 70 Bulbasaur\n",
      "Prediction 97 Pikachu\n"
     ]
    },
    {
     "name": "stderr",
     "output_type": "stream",
     "text": [
      "C:\\Users\\rishi\\AppData\\Local\\Temp\\ipykernel_30284\\1012285794.py:4: UserWarning: Matplotlib is currently using agg, which is a non-GUI backend, so cannot show the figure.\n",
      "  plt.show()\n"
     ]
    },
    {
     "data": {
      "image/png": "[encoded data removed]",
      "text/plain": [
       "<Figure size 576x396 with 1 Axes>"
      ]
     },
     "metadata": {},
     "output_type": "display_data"
    }
   ],
   "source": [
    "for i in range(Y.shape[0]):\n",
    "    "
   ]
  },
  {
   "cell_type": "code",
   "execution_count": null,
   "id": "4a5d92c1",
   "metadata": {},
   "outputs": [],
   "source": []
  }
 ],
 "metadata": {
  "kernelspec": {
   "display_name": "Python 3 (ipykernel)",
   "language": "python",
   "name": "python3"
  },
  "language_info": {
   "codemirror_mode": {
    "name": "ipython",
    "version": 3
   },
   "file_extension": ".py",
   "mimetype": "text/x-python",
   "name": "python",
   "nbconvert_exporter": "python",
   "pygments_lexer": "ipython3",
   "version": "3.10.2"
  }
 },
 "nbformat": 4,
 "nbformat_minor": 5
}
